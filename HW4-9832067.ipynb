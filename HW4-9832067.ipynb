{
 "cells": [
  {
   "cell_type": "code",
   "execution_count": null,
   "id": "turned-fluid",
   "metadata": {},
   "outputs": [],
   "source": [
    "# !pip install numpy\n",
    "# !pip install pandas\n",
    "# !pip install matplotlib\n",
    "# !pip install scikit-learn"
   ]
  },
  {
   "cell_type": "markdown",
   "id": "optional-scanning",
   "metadata": {},
   "source": [
    "### Import pandas, numpy, matplotlib and sklearn"
   ]
  },
  {
   "cell_type": "code",
   "execution_count": 87,
   "id": "comprehensive-norway",
   "metadata": {},
   "outputs": [],
   "source": [
    "import pandas as pd\n",
    "import numpy as np\n",
    "import matplotlib.pyplot as plt\n",
    "import sklearn"
   ]
  },
  {
   "cell_type": "markdown",
   "id": "attended-consideration",
   "metadata": {
    "tags": []
   },
   "source": [
    "### Importing dataset to your code\n",
    "1. read .csv file by pandas library\n",
    "2. use **describe()** and **head()** functions look over dataset\n",
    "3. plot **mean** and **variance** of data"
   ]
  },
  {
   "cell_type": "code",
   "execution_count": 125,
   "id": "related-designation",
   "metadata": {},
   "outputs": [
    {
     "name": "stdout",
     "output_type": "stream",
     "text": [
      "                0             1\n",
      "count  442.000000  4.420000e+02\n",
      "mean   220.500000 -8.015207e-16\n",
      "std    127.738666  4.761905e-02\n",
      "min      0.000000 -9.027530e-02\n",
      "25%    110.250000 -3.422907e-02\n",
      "50%    220.500000 -7.283766e-03\n",
      "75%    330.750000  3.124802e-02\n",
      "max    441.000000  1.705552e-01\n",
      "   0         1\n",
      "0  0  0.061696\n",
      "1  1 -0.051474\n",
      "2  2  0.044451\n",
      "3  3 -0.011595\n",
      "4  4 -0.036385\n"
     ]
    },
    {
     "data": {
      "image/png": "[encoded data removed]",
      "text/plain": [
       "<Figure size 432x288 with 1 Axes>"
      ]
     },
     "metadata": {
      "needs_background": "light"
     },
     "output_type": "display_data"
    },
    {
     "name": "stdout",
     "output_type": "stream",
     "text": [
      "mean:-8.01520740176216e-16,variance:0.0022675736961455524\n"
     ]
    }
   ],
   "source": [
    "#Task1\n",
    "data= pd.read_csv('/home/ayda/Desktop/bmi.csv') \n",
    "data.columns=['0','1']\n",
    "print(data.describe())\n",
    "print(data.head())\n",
    "mean=data['1'].mean()\n",
    "var=data['1'].var()\n",
    "plt.plot([x for x in range(len(data))],[mean]*len(data),color='purple')\n",
    "plt.plot([x for x in range(len(data))],[var]*len(data),color='grey')\n",
    "plt.plot (data['1'] ,'o', color='pink')\n",
    "plt.show()\n",
    "print(f'mean:{mean},variance:{var}')"
   ]
  },
  {
   "cell_type": "markdown",
   "id": "similar-ethnic",
   "metadata": {},
   "source": [
    "### Split data\n",
    "1. using sklearn.model_selection to split your dataset (80% for training)\n",
    "  * you can use numpy for spliting too"
   ]
  },
  {
   "cell_type": "code",
   "execution_count": 91,
   "id": "duplicate-father",
   "metadata": {},
   "outputs": [
    {
     "data": {
      "text/plain": [
       "(428    428\n",
       " 160    160\n",
       " 25      25\n",
       " 43      43\n",
       " 8        8\n",
       "       ... \n",
       " 6        6\n",
       " 55      55\n",
       " 217    217\n",
       " 188    188\n",
       " 129    129\n",
       " Name: 0, Length: 353, dtype: int64,\n",
       " 414    414\n",
       " 105    105\n",
       " 113    113\n",
       " 80      80\n",
       " 128    128\n",
       "       ... \n",
       " 276    276\n",
       " 267    267\n",
       " 191    191\n",
       " 206    206\n",
       " 237    237\n",
       " Name: 0, Length: 89, dtype: int64)"
      ]
     },
     "execution_count": 91,
     "metadata": {},
     "output_type": "execute_result"
    }
   ],
   "source": [
    "#Task2\n",
    "import sklearn.model_selection\n",
    "x_train, x_test, y_train, y_test = sklearn.model_selection.train_test_split (data['0'], data['1'], train_size = 0.8)\n",
    "x_train, x_test"
   ]
  },
  {
   "cell_type": "markdown",
   "id": "comprehensive-cemetery",
   "metadata": {},
   "source": [
    "### Linear Regression class\n",
    "1. complete **fit** method\n",
    "2. complete **predict** method\n",
    "3. complete **mean squared error (MSE)** method"
   ]
  },
  {
   "cell_type": "code",
   "execution_count": 92,
   "id": "numerous-captain",
   "metadata": {},
   "outputs": [],
   "source": [
    "#Task3\n",
    "class Linear_Regression:\n",
    "    def __init__(self):\n",
    "        self.x = None\n",
    "        self.y = None\n",
    "        self.alpha0 = None\n",
    "        self.alpha1 = None\n",
    "        self.coeffients = []\n",
    "        \n",
    "    def fit(self,x,y):\n",
    "        self.x = x\n",
    "        self.y = y     \n",
    "        x_bar=self.x.mean()\n",
    "        y_bar=self.y.mean()\n",
    "        a=b=0\n",
    "        for i in self.x.index:\n",
    "            a+=(x[i]-x_bar)*(y[i]-y_bar)\n",
    "            b+=((x[i]-x_bar)**2)\n",
    "        self.alpha1 =a/b\n",
    "        \n",
    "        self.alpha0 = y_bar-self.alpha1*x_bar\n",
    "        \n",
    "        self.coeffients = [self.alpha0, self.alpha1]\n",
    "        return self\n",
    "    \n",
    "    def predict(self,x):\n",
    "        #x is numpy arr\n",
    "        return self.alpha0+self.alpha1*x\n",
    "    \n",
    "    def mse(self,x,y):\n",
    "        squared_error = (y - self.predict(x)) ** 2\n",
    "        sum_squared_error = np.sum(squared_error)\n",
    "        loss = sum_squared_error / y.size\n",
    "        return loss"
   ]
  },
  {
   "cell_type": "markdown",
   "id": "comparable-chair",
   "metadata": {},
   "source": [
    "### Use dataset to create sample Linear regression\n",
    "1. create new instance of Linear_Regression class\n",
    "2. import x_train and y_train parts to fit method\n",
    "3. predict new y by using x_test and predict method\n",
    "4. now find how much is your MSE"
   ]
  },
  {
   "cell_type": "code",
   "execution_count": 93,
   "id": "advisory-boston",
   "metadata": {},
   "outputs": [
    {
     "data": {
      "text/plain": [
       "0.0021070010990202324"
      ]
     },
     "execution_count": 93,
     "metadata": {},
     "output_type": "execute_result"
    }
   ],
   "source": [
    "#Task4\n",
    "main=Linear_Regression()\n",
    "main.fit(x_train,y_train)\n",
    "y_predict=main.predict(x_test)\n",
    "main.mse(x_test,y_test)"
   ]
  },
  {
   "cell_type": "markdown",
   "id": "invalid-summary",
   "metadata": {
    "tags": []
   },
   "source": [
    "### Plot data and the line\n",
    "1. use scatter plot to plot dataset\n",
    "2. plot regression line with another color"
   ]
  },
  {
   "cell_type": "code",
   "execution_count": 96,
   "id": "fourth-growth",
   "metadata": {},
   "outputs": [
    {
     "data": {
      "image/png": "[encoded data removed]",
      "text/plain": [
       "<Figure size 432x288 with 1 Axes>"
      ]
     },
     "metadata": {
      "needs_background": "light"
     },
     "output_type": "display_data"
    }
   ],
   "source": [
    "#Task5\n",
    "import matplotlib.pyplot as plt\n",
    "\n",
    "plt.scatter(x_test, y_test,color = '#88c999')\n",
    "plt.plot (x_test, y_predict, color='red')\n",
    "plt.show()"
   ]
  },
  {
   "cell_type": "code",
   "execution_count": null,
   "id": "db9ea356-523e-4b4b-ad72-653e2d22ce4b",
   "metadata": {},
   "outputs": [],
   "source": []
  },
  {
   "cell_type": "code",
   "execution_count": null,
   "id": "729f621e-68e7-4bf9-8058-8ed623163fc7",
   "metadata": {},
   "outputs": [],
   "source": []
  },
  {
   "cell_type": "code",
   "execution_count": null,
   "id": "8c6219ae-af08-4184-94ee-62fe135e0b3a",
   "metadata": {},
   "outputs": [],
   "source": []
  }
 ],
 "metadata": {
  "kernelspec": {
   "display_name": "Python 3 (ipykernel)",
   "language": "python",
   "name": "python3"
  },
  "language_info": {
   "codemirror_mode": {
    "name": "ipython",
    "version": 3
   },
   "file_extension": ".py",
   "mimetype": "text/x-python",
   "name": "python",
   "nbconvert_exporter": "python",
   "pygments_lexer": "ipython3",
   "version": "3.9.5"
  }
 },
 "nbformat": 4,
 "nbformat_minor": 5
}
